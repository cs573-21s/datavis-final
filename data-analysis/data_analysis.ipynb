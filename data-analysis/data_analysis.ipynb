{
 "cells": [
  {
   "cell_type": "markdown",
   "metadata": {},
   "source": [
    "# Json to CSV for survey data"
   ]
  },
  {
   "cell_type": "code",
   "execution_count": 1,
   "metadata": {},
   "outputs": [],
   "source": [
    "import json\r\n",
    "import math\r\n",
    "import csv\r\n",
    "import numpy as np"
   ]
  },
  {
   "cell_type": "code",
   "execution_count": 29,
   "metadata": {},
   "outputs": [],
   "source": [
    "\r\n",
    "# Turn the json file into a dictionary\r\n",
    "jsonFile = open('../data/surveyresults_5-7-21.json')\r\n",
    "d = json.load(jsonFile)\r\n",
    "\r\n",
    "# Loop through the dictionary and make a csv\r\n",
    "headerRow = [\r\n",
    "    'id', \r\n",
    "    'preferred app',\r\n",
    "    'app use frequency',\r\n",
    "    'experience on app',\r\n",
    "    'app inaccuracy',\r\n",
    "    'app reliable',\r\n",
    "    'stats experience',\r\n",
    "    'vis type', #TODO fix order of trial headers\r\n",
    "    'question type',\r\n",
    "    'guess', \r\n",
    "    'true precipitation amount',\r\n",
    "    'true pop',\r\n",
    "    'confidence', # confidence in their answer\r\n",
    "    'follow up text',\r\n",
    "    'effort bar',\r\n",
    "    'effort dot',\r\n",
    "    'effort hop',\r\n",
    "    'effort text',\r\n",
    "    'rank1',\r\n",
    "    'rank2',\r\n",
    "    'rank3',\r\n",
    "    'rank4',\r\n",
    "    'feedback',\r\n",
    "]\r\n",
    "# headerRow = ['id','Education','Field','Statistics Experience','Data vis experience','trial vis type','trial reported percent','trial true percent','trial log error']\r\n",
    "\r\n",
    "d = d['data']\r\n",
    "with open('output.csv', 'w', newline='') as csvfile:\r\n",
    "    csvWriter = csv.writer(csvfile, delimiter=',')\r\n",
    "    csvWriter.writerow(headerRow)\r\n",
    "    i =1\r\n",
    "    for key in d:\r\n",
    "        # print('person', i, 'key', key)\r\n",
    "        i = i+1\r\n",
    "        row = []\r\n",
    "        # get id\r\n",
    "        row.append(key)\r\n",
    "\r\n",
    "        # get demographic info\r\n",
    "        demographic = d[key]['demographic']\r\n",
    "        row.append(demographic['app'])\r\n",
    "        row.append(demographic['frequency'])\r\n",
    "        row.append(demographic['experience'])\r\n",
    "        row.append(demographic['inaccurate'])\r\n",
    "        if ('reliable' in demographic.keys()):\r\n",
    "            row.append(demographic['reliable'])\r\n",
    "        else:\r\n",
    "            row.append(demographic['Reliable'])\r\n",
    "        row.append(demographic['stats'])\r\n",
    "\r\n",
    "        # get exit survey results\r\n",
    "        exitSurveyResults = d[key]['exitSurveyResults']\r\n",
    "        row.append(exitSurveyResults['EffortBar'])\r\n",
    "        row.append(exitSurveyResults['EffortDot'])\r\n",
    "        row.append(exitSurveyResults['EffortHOP'])\r\n",
    "        row.append(exitSurveyResults['EffortText'])\r\n",
    "        row.append(exitSurveyResults['Rank1'])\r\n",
    "        row.append(exitSurveyResults['Rank2'])\r\n",
    "        row.append(exitSurveyResults['Rank3'])\r\n",
    "        row.append(exitSurveyResults['Rank4'])\r\n",
    "        row.append(exitSurveyResults['Feedback'])\r\n",
    "\r\n",
    "        # get trial data\r\n",
    "        for trial in d[key]['trials']:\r\n",
    "            if ('done' not in trial.keys()):\r\n",
    "                # print(type(trial))\r\n",
    "                subRow = []\r\n",
    "                # id\r\n",
    "                subRow.append(row[0])\r\n",
    "\r\n",
    "                # demographics\r\n",
    "                subRow.append(row[1])\r\n",
    "                subRow.append(row[2])\r\n",
    "                subRow.append(row[3])\r\n",
    "                subRow.append(row[4])\r\n",
    "                subRow.append(row[5])\r\n",
    "                subRow.append(row[6])\r\n",
    "                # trial information\r\n",
    "                # TODO finish this section\r\n",
    "                subRow.append(trial['type'])\r\n",
    "                subRow.append(trial['questionType'])\r\n",
    "                # print(trial['mainAnswer'])\r\n",
    "                subRow.append(trial['mainAnswer'])\r\n",
    "                # TODO add correct answer\r\n",
    "\r\n",
    "                true_values_pop, true_values_amount = true_values(trial['points'][0], trial['points'][1], trial['questionType'])\r\n",
    "                subRow.append(true_values_pop)\r\n",
    "                subRow.append(true_values_amount)\r\n",
    "                subRow.append(trial['confidence'])\r\n",
    "                subRow.append(trial['followUpText'])\r\n",
    "\r\n",
    "                # truePercent = trial['low']/trial['high']\r\n",
    "                # subRow.append(truePercent)\r\n",
    "                # logError = math.log((abs((truePercent*100)-(float(trial['guess'])*100))+0.125),2)\r\n",
    "                # subRow.append(logError)\r\n",
    "                # print(subRow)\r\n",
    "\r\n",
    "                # \"askedForHelp\" : false,\r\n",
    "                # \"confidence\" : \"Very unsure\",\r\n",
    "                # \"followUpText\" : \"\",\r\n",
    "                # \"mainAnswer\" : \"0.3\",\r\n",
    "                # \"points\" : [ [ 0.45, 0.25, 0.3, 0.35, 0.3, 0.05, 0.1, 0.1, 0.1, 0.1, 0.1, 0, 0, 0.05, 0.2, 0.3, 0.2, 0.1, 0.45, 0.3, 0.1, 0.3, 0.35, 0.5 ], [ 0.7, 0.65, 0.7, 0.55, 0.55, 0.35, 0.3, 0.5, 0.3, 0.2, 0.15, 0.05, 0, 0.1, 0.3, 0.4, 0.45, 0.55, 0.75, 0.8, 0.7, 0.8, 0.9, 0.95 ] ],\r\n",
    "                # \"questionType\" : \"amount\",\r\n",
    "                # \"type\" : \"Hypothetical Outcome Plot\"\r\n",
    "                \r\n",
    "                # exit survey\r\n",
    "                # subRow.append(row[6])\r\n",
    "                subRow.append(row[7])\r\n",
    "                subRow.append(row[8])\r\n",
    "                subRow.append(row[9])\r\n",
    "                subRow.append(row[10])\r\n",
    "                subRow.append(row[11])\r\n",
    "                subRow.append(row[12])\r\n",
    "                subRow.append(row[13])\r\n",
    "                subRow.append(row[14])\r\n",
    "                subRow.append(row[15])\r\n",
    "                # print(subRow)\r\n",
    "                csvWriter.writerow(subRow)"
   ]
  },
  {
   "cell_type": "code",
   "execution_count": 21,
   "metadata": {},
   "outputs": [],
   "source": [
    "\r\n",
    "'''\r\n",
    "Return the true prediction and true chance of precipitation for a\r\n",
    "specific trial question. The true values can either be a point\r\n",
    "value or a weighted average, based on the type of question.\r\n",
    "'''\r\n",
    "def true_values(all_predictions, all_chances, question_type):\r\n",
    "    if (question_type == 'friend' or question_type == 'alone' or question_type == 'event'):\r\n",
    "        return data_avg(all_predictions, all_chances, question_type)\r\n",
    "        \r\n",
    "\r\n",
    "    elif (question_type == 'amount' or question_type == 'probability'):\r\n",
    "        return [all_predictions[15], all_chances[15]]\r\n",
    "\r\n",
    "    else: print('Error: Not a trial')\r\n",
    "        \r\n",
    "\r\n",
    "'''\r\n",
    "Calculate the weighted average prediction and weighted average chance\r\n",
    "of precipitation based on the type of viz\r\n",
    "'''\r\n",
    "def data_avg(all_amount_predictions, all_chances, question_type):\r\n",
    "\r\n",
    "    n_hours = 24\r\n",
    "    pop_weighted_avg = 0\r\n",
    "    amt_weighted_avg = 0\r\n",
    "    # before_sum = 0\r\n",
    "    # after_sum = 0\r\n",
    "    # during_value = 0\r\n",
    "    index_3pm = 15\r\n",
    "\r\n",
    "    # check weather 2 hrs before to see if ground is wet\r\n",
    "    # and 4 hrs after bc hiking will probs take that long\r\n",
    "    if question_type == 'friend' or question_type == 'alone':\r\n",
    "        amt_weighted_avg = np.mean(all_amount_predictions[index_3pm-2:index_3pm+2])\r\n",
    "        pop_weighted_avg = np.mean(all_chances[index_3pm-2:index_3pm+2])\r\n",
    "\r\n",
    "    elif question_type == 'event':\r\n",
    "        amt_weighted_avg = np.mean(all_amount_predictions)\r\n",
    "        pop_weighted_avg = np.mean(all_chances)\r\n",
    "\r\n",
    "    return pop_weighted_avg, amt_weighted_avg"
   ]
  },
  {
   "cell_type": "markdown",
   "metadata": {},
   "source": [
    "# Data Analysis"
   ]
  },
  {
   "cell_type": "code",
   "execution_count": 2,
   "metadata": {},
   "outputs": [],
   "source": [
    "import numpy as np\r\n",
    "import pandas as pd\r\n"
   ]
  },
  {
   "cell_type": "code",
   "execution_count": 10,
   "metadata": {},
   "outputs": [],
   "source": [
    "data = pd.read_csv('output.csv')"
   ]
  },
  {
   "cell_type": "markdown",
   "metadata": {},
   "source": [
    "## Plot things per vis type"
   ]
  },
  {
   "cell_type": "markdown",
   "metadata": {},
   "source": [
    "plot effort by vis type"
   ]
  },
  {
   "cell_type": "code",
   "execution_count": null,
   "metadata": {},
   "outputs": [],
   "source": [
    "import plotly.express as px\r\n",
    "# data_canada = px.data.gapminder().query(\"country == 'Canada'\")\r\n",
    "fig = px.bar(data_canada, x='year', y='pop')\r\n",
    "fig.show()\r\n"
   ]
  },
  {
   "cell_type": "code",
   "execution_count": 5,
   "metadata": {},
   "outputs": [
    {
     "ename": "ModuleNotFoundError",
     "evalue": "No module named 'plotly'",
     "output_type": "error",
     "traceback": [
      "\u001b[1;31m---------------------------------------------------------------------------\u001b[0m",
      "\u001b[1;31mModuleNotFoundError\u001b[0m                       Traceback (most recent call last)",
      "\u001b[1;32m<ipython-input-5-00df9685204a>\u001b[0m in \u001b[0;36m<module>\u001b[1;34m\u001b[0m\n\u001b[1;32m----> 1\u001b[1;33m \u001b[1;32mimport\u001b[0m \u001b[0mplotly\u001b[0m\u001b[1;33m.\u001b[0m\u001b[0mexpress\u001b[0m \u001b[1;32mas\u001b[0m \u001b[0mpx\u001b[0m\u001b[1;33m\u001b[0m\u001b[1;33m\u001b[0m\u001b[0m\n\u001b[0m\u001b[0;32m      2\u001b[0m \u001b[1;31m# df = px.data.tips()\u001b[0m\u001b[1;33m\u001b[0m\u001b[1;33m\u001b[0m\u001b[1;33m\u001b[0m\u001b[0m\n\u001b[0;32m      3\u001b[0m \u001b[0mfig\u001b[0m \u001b[1;33m=\u001b[0m \u001b[0mpx\u001b[0m\u001b[1;33m.\u001b[0m\u001b[0mhistogram\u001b[0m\u001b[1;33m(\u001b[0m\u001b[0mdata\u001b[0m\u001b[1;33m,\u001b[0m \u001b[0mx\u001b[0m\u001b[1;33m=\u001b[0m\u001b[1;34m\"effort bar\"\u001b[0m\u001b[1;33m)\u001b[0m\u001b[1;33m\u001b[0m\u001b[1;33m\u001b[0m\u001b[0m\n\u001b[0;32m      4\u001b[0m \u001b[0mfig\u001b[0m\u001b[1;33m.\u001b[0m\u001b[0mshow\u001b[0m\u001b[1;33m(\u001b[0m\u001b[1;33m)\u001b[0m\u001b[1;33m\u001b[0m\u001b[1;33m\u001b[0m\u001b[0m\n",
      "\u001b[1;31mModuleNotFoundError\u001b[0m: No module named 'plotly'"
     ]
    }
   ],
   "source": [
    "import plotly.express as px\r\n",
    "# df = px.data.tips()\r\n",
    "fig = px.histogram(data, x=\"effort bar\")\r\n",
    "fig.show()\r\n"
   ]
  },
  {
   "cell_type": "code",
   "execution_count": 50,
   "metadata": {},
   "outputs": [
    {
     "name": "stdout",
     "output_type": "stream",
     "text": [
      "{'Hypothetical Outcome Plot', 'Quantile Dot Plot', 'Static Bar Chart', 'Text'}\n"
     ]
    },
    {
     "data": {
      "text/plain": "15"
     },
     "execution_count": 50,
     "metadata": {},
     "output_type": "execute_result"
    }
   ],
   "source": [
    "vis_types = set(data['vis type'])\r\n",
    "confidence_categories = set(data['confidence'])\r\n",
    "confidence = []\r\n",
    "for vis_type in vis_types:\r\n",
    "    subset = data.loc[data['vis type'] == vis_type]\r\n",
    "    len(text_data.loc[text_data['confidence'] == 'Kind of confident'])"
   ]
  },
  {
   "cell_type": "code",
   "execution_count": 27,
   "metadata": {},
   "outputs": [],
   "source": [
    "cleanup = {\"confidence_numeric\":     {\"Very Confident\": 5,\r\n",
    "                                        \"Kind of confident\": 4, \r\n",
    "                                        \"Neutral\": 3,\r\n",
    "                                        \"Unsure\": 2,\r\n",
    "                                        \"So unsure\": 1,\r\n",
    "                                        \"Very unsure\": 0},\r\n",
    "                                        }\r\n",
    "\r\n",
    "data = data.replace(cleanup)"
   ]
  },
  {
   "cell_type": "code",
   "execution_count": 33,
   "metadata": {},
   "outputs": [
    {
     "ename": "KeyError",
     "evalue": "''",
     "output_type": "error",
     "traceback": [
      "\u001b[1;31m---------------------------------------------------------------------------\u001b[0m",
      "\u001b[1;31mKeyError\u001b[0m                                  Traceback (most recent call last)",
      "\u001b[1;32mC:\\Python39\\lib\\site-packages\\pandas\\core\\indexes\\base.py\u001b[0m in \u001b[0;36mget_loc\u001b[1;34m(self, key, method, tolerance)\u001b[0m\n\u001b[0;32m   3079\u001b[0m             \u001b[1;32mtry\u001b[0m\u001b[1;33m:\u001b[0m\u001b[1;33m\u001b[0m\u001b[1;33m\u001b[0m\u001b[0m\n\u001b[1;32m-> 3080\u001b[1;33m                 \u001b[1;32mreturn\u001b[0m \u001b[0mself\u001b[0m\u001b[1;33m.\u001b[0m\u001b[0m_engine\u001b[0m\u001b[1;33m.\u001b[0m\u001b[0mget_loc\u001b[0m\u001b[1;33m(\u001b[0m\u001b[0mcasted_key\u001b[0m\u001b[1;33m)\u001b[0m\u001b[1;33m\u001b[0m\u001b[1;33m\u001b[0m\u001b[0m\n\u001b[0m\u001b[0;32m   3081\u001b[0m             \u001b[1;32mexcept\u001b[0m \u001b[0mKeyError\u001b[0m \u001b[1;32mas\u001b[0m \u001b[0merr\u001b[0m\u001b[1;33m:\u001b[0m\u001b[1;33m\u001b[0m\u001b[1;33m\u001b[0m\u001b[0m\n",
      "\u001b[1;32mpandas\\_libs\\index.pyx\u001b[0m in \u001b[0;36mpandas._libs.index.IndexEngine.get_loc\u001b[1;34m()\u001b[0m\n",
      "\u001b[1;32mpandas\\_libs\\index.pyx\u001b[0m in \u001b[0;36mpandas._libs.index.IndexEngine.get_loc\u001b[1;34m()\u001b[0m\n",
      "\u001b[1;32mpandas\\_libs\\hashtable_class_helper.pxi\u001b[0m in \u001b[0;36mpandas._libs.hashtable.PyObjectHashTable.get_item\u001b[1;34m()\u001b[0m\n",
      "\u001b[1;32mpandas\\_libs\\hashtable_class_helper.pxi\u001b[0m in \u001b[0;36mpandas._libs.hashtable.PyObjectHashTable.get_item\u001b[1;34m()\u001b[0m\n",
      "\u001b[1;31mKeyError\u001b[0m: ''",
      "\nThe above exception was the direct cause of the following exception:\n",
      "\u001b[1;31mKeyError\u001b[0m                                  Traceback (most recent call last)",
      "\u001b[1;32m<ipython-input-33-1b01969c1f6c>\u001b[0m in \u001b[0;36m<module>\u001b[1;34m\u001b[0m\n\u001b[0;32m      3\u001b[0m \u001b[0msns\u001b[0m\u001b[1;33m.\u001b[0m\u001b[0mset_theme\u001b[0m\u001b[1;33m(\u001b[0m\u001b[0mstyle\u001b[0m\u001b[1;33m=\u001b[0m\u001b[1;34m\"ticks\"\u001b[0m\u001b[1;33m,\u001b[0m \u001b[0mcolor_codes\u001b[0m\u001b[1;33m=\u001b[0m\u001b[1;32mTrue\u001b[0m\u001b[1;33m)\u001b[0m\u001b[1;33m\u001b[0m\u001b[1;33m\u001b[0m\u001b[0m\n\u001b[0;32m      4\u001b[0m \u001b[1;33m\u001b[0m\u001b[0m\n\u001b[1;32m----> 5\u001b[1;33m \u001b[0mlen\u001b[0m\u001b[1;33m(\u001b[0m\u001b[0mdata\u001b[0m\u001b[1;33m[\u001b[0m\u001b[1;34m''\u001b[0m\u001b[1;33m]\u001b[0m\u001b[1;33m)\u001b[0m\u001b[1;33m\u001b[0m\u001b[1;33m\u001b[0m\u001b[0m\n\u001b[0m\u001b[0;32m      6\u001b[0m \u001b[1;33m\u001b[0m\u001b[0m\n\u001b[0;32m      7\u001b[0m \u001b[0mplt\u001b[0m\u001b[1;33m.\u001b[0m\u001b[0mhist\u001b[0m\u001b[1;33m(\u001b[0m\u001b[0mdata\u001b[0m\u001b[1;33m=\u001b[0m\u001b[0mdata\u001b[0m\u001b[1;33m,\u001b[0m \u001b[0mX\u001b[0m\u001b[1;33m=\u001b[0m\u001b[1;34m'vis type'\u001b[0m\u001b[1;33m,\u001b[0m \u001b[0my\u001b[0m\u001b[1;33m=\u001b[0m\u001b[1;34m'confidence_numeric'\u001b[0m\u001b[1;33m)\u001b[0m\u001b[1;33m\u001b[0m\u001b[1;33m\u001b[0m\u001b[0m\n",
      "\u001b[1;32mC:\\Python39\\lib\\site-packages\\pandas\\core\\frame.py\u001b[0m in \u001b[0;36m__getitem__\u001b[1;34m(self, key)\u001b[0m\n\u001b[0;32m   3022\u001b[0m             \u001b[1;32mif\u001b[0m \u001b[0mself\u001b[0m\u001b[1;33m.\u001b[0m\u001b[0mcolumns\u001b[0m\u001b[1;33m.\u001b[0m\u001b[0mnlevels\u001b[0m \u001b[1;33m>\u001b[0m \u001b[1;36m1\u001b[0m\u001b[1;33m:\u001b[0m\u001b[1;33m\u001b[0m\u001b[1;33m\u001b[0m\u001b[0m\n\u001b[0;32m   3023\u001b[0m                 \u001b[1;32mreturn\u001b[0m \u001b[0mself\u001b[0m\u001b[1;33m.\u001b[0m\u001b[0m_getitem_multilevel\u001b[0m\u001b[1;33m(\u001b[0m\u001b[0mkey\u001b[0m\u001b[1;33m)\u001b[0m\u001b[1;33m\u001b[0m\u001b[1;33m\u001b[0m\u001b[0m\n\u001b[1;32m-> 3024\u001b[1;33m             \u001b[0mindexer\u001b[0m \u001b[1;33m=\u001b[0m \u001b[0mself\u001b[0m\u001b[1;33m.\u001b[0m\u001b[0mcolumns\u001b[0m\u001b[1;33m.\u001b[0m\u001b[0mget_loc\u001b[0m\u001b[1;33m(\u001b[0m\u001b[0mkey\u001b[0m\u001b[1;33m)\u001b[0m\u001b[1;33m\u001b[0m\u001b[1;33m\u001b[0m\u001b[0m\n\u001b[0m\u001b[0;32m   3025\u001b[0m             \u001b[1;32mif\u001b[0m \u001b[0mis_integer\u001b[0m\u001b[1;33m(\u001b[0m\u001b[0mindexer\u001b[0m\u001b[1;33m)\u001b[0m\u001b[1;33m:\u001b[0m\u001b[1;33m\u001b[0m\u001b[1;33m\u001b[0m\u001b[0m\n\u001b[0;32m   3026\u001b[0m                 \u001b[0mindexer\u001b[0m \u001b[1;33m=\u001b[0m \u001b[1;33m[\u001b[0m\u001b[0mindexer\u001b[0m\u001b[1;33m]\u001b[0m\u001b[1;33m\u001b[0m\u001b[1;33m\u001b[0m\u001b[0m\n",
      "\u001b[1;32mC:\\Python39\\lib\\site-packages\\pandas\\core\\indexes\\base.py\u001b[0m in \u001b[0;36mget_loc\u001b[1;34m(self, key, method, tolerance)\u001b[0m\n\u001b[0;32m   3080\u001b[0m                 \u001b[1;32mreturn\u001b[0m \u001b[0mself\u001b[0m\u001b[1;33m.\u001b[0m\u001b[0m_engine\u001b[0m\u001b[1;33m.\u001b[0m\u001b[0mget_loc\u001b[0m\u001b[1;33m(\u001b[0m\u001b[0mcasted_key\u001b[0m\u001b[1;33m)\u001b[0m\u001b[1;33m\u001b[0m\u001b[1;33m\u001b[0m\u001b[0m\n\u001b[0;32m   3081\u001b[0m             \u001b[1;32mexcept\u001b[0m \u001b[0mKeyError\u001b[0m \u001b[1;32mas\u001b[0m \u001b[0merr\u001b[0m\u001b[1;33m:\u001b[0m\u001b[1;33m\u001b[0m\u001b[1;33m\u001b[0m\u001b[0m\n\u001b[1;32m-> 3082\u001b[1;33m                 \u001b[1;32mraise\u001b[0m \u001b[0mKeyError\u001b[0m\u001b[1;33m(\u001b[0m\u001b[0mkey\u001b[0m\u001b[1;33m)\u001b[0m \u001b[1;32mfrom\u001b[0m \u001b[0merr\u001b[0m\u001b[1;33m\u001b[0m\u001b[1;33m\u001b[0m\u001b[0m\n\u001b[0m\u001b[0;32m   3083\u001b[0m \u001b[1;33m\u001b[0m\u001b[0m\n\u001b[0;32m   3084\u001b[0m         \u001b[1;32mif\u001b[0m \u001b[0mtolerance\u001b[0m \u001b[1;32mis\u001b[0m \u001b[1;32mnot\u001b[0m \u001b[1;32mNone\u001b[0m\u001b[1;33m:\u001b[0m\u001b[1;33m\u001b[0m\u001b[1;33m\u001b[0m\u001b[0m\n",
      "\u001b[1;31mKeyError\u001b[0m: ''"
     ]
    }
   ],
   "source": [
    "import seaborn as sns\r\n",
    "import matplotlib.pyplot as plt\r\n",
    "sns.set_theme(style=\"ticks\", color_codes=True)\r\n",
    "\r\n",
    "len(data.loc[''])\r\n",
    "\r\n",
    "plt.hist(data=data, X='vis type', y='confidence_numeric')"
   ]
  }
 ],
 "metadata": {
  "kernelspec": {
   "display_name": "Python 3.9.2 64-bit",
   "name": "python392jvsc74a57bd063fd5069d213b44bf678585dea6b12cceca9941eaf7f819626cde1f2670de90d"
  },
  "language_info": {
   "codemirror_mode": {
    "name": "ipython",
    "version": 3
   },
   "file_extension": ".py",
   "mimetype": "text/x-python",
   "name": "python",
   "nbconvert_exporter": "python",
   "pygments_lexer": "ipython3",
   "version": "3.9.2"
  },
  "metadata": {
   "interpreter": {
    "hash": "63fd5069d213b44bf678585dea6b12cceca9941eaf7f819626cde1f2670de90d"
   }
  },
  "orig_nbformat": 3
 },
 "nbformat": 4,
 "nbformat_minor": 2
}